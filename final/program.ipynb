{
 "cells": [
  {
   "cell_type": "code",
   "execution_count": 1,
   "metadata": {},
   "outputs": [],
   "source": [
    "import pandas as pd\n",
    "import seaborn as sns\n",
    "import matplotlib.pyplot as plt"
   ]
  },
  {
   "cell_type": "code",
   "execution_count": 3,
   "metadata": {},
   "outputs": [],
   "source": [
    "df = pd.read_csv('survey_results_public.csv')\n",
    "schema_df = pd.read_csv('survey_results_schema.csv')"
   ]
  },
  {
   "cell_type": "code",
   "execution_count": 4,
   "metadata": {},
   "outputs": [],
   "source": [
    "\n",
    "chosen_columns = ['Professional', 'ProgramHobby', 'University', 'EmploymentStatus',\n",
    "                  'FormalEducation', 'MajorUndergrad', 'YearsProgram', 'YearsCodedJob',\n",
    "                  'DeveloperType', 'CareerSatisfaction']"
   ]
  },
  {
   "cell_type": "code",
   "execution_count": 5,
   "metadata": {},
   "outputs": [],
   "source": [
    "column_definitions = schema_df[schema_df['Column'].isin(chosen_columns)]\n"
   ]
  },
  {
   "cell_type": "code",
   "execution_count": 6,
   "metadata": {},
   "outputs": [
    {
     "name": "stdout",
     "output_type": "stream",
     "text": [
      "Professional\n",
      "Which of the following best describes you? \n",
      "\n",
      "ProgramHobby\n",
      "Do you program as a hobby or contribute to open source projects? \n",
      "\n",
      "University\n",
      "Are you currently enrolled in a formal, degree-granting college or university program? \n",
      "\n",
      "EmploymentStatus\n",
      "Which of the following best describes your current employment status? \n",
      "\n",
      "FormalEducation\n",
      "Which of the following best describes the highest level of formal education that you've completed? \n",
      "\n",
      "MajorUndergrad\n",
      "Which of the following best describes your main field of study (aka 'major') in college or university/for your undergraduate studies? \n",
      "\n",
      "YearsProgram\n",
      "How long has it been since you first learned how to program? \n",
      "\n",
      "YearsCodedJob\n",
      "For how many years have you coded as part of your job? \n",
      "\n",
      "DeveloperType\n",
      "Which of the following best describe you? \n",
      "\n",
      "CareerSatisfaction\n",
      "Career satisfaction rating \n",
      "\n"
     ]
    }
   ],
   "source": [
    "for ix, row in column_definitions.iterrows():\n",
    "    print(row['Column'])\n",
    "    print(row['Question'], '\\n')"
   ]
  },
  {
   "cell_type": "code",
   "execution_count": 7,
   "metadata": {},
   "outputs": [],
   "source": [
    "data = df[chosen_columns]"
   ]
  },
  {
   "cell_type": "code",
   "execution_count": 8,
   "metadata": {},
   "outputs": [],
   "source": [
    "\n",
    "data.columns = ['professional', 'program_hobby', 'university' ,'employment_status',\n",
    "                'formal_education', 'major_undergrad', 'years_program', 'years_coded_job',\n",
    "                'developer_type', 'career_satisfaction']"
   ]
  },
  {
   "cell_type": "code",
   "execution_count": 9,
   "metadata": {},
   "outputs": [
    {
     "data": {
      "text/html": [
       "<div>\n",
       "<style scoped>\n",
       "    .dataframe tbody tr th:only-of-type {\n",
       "        vertical-align: middle;\n",
       "    }\n",
       "\n",
       "    .dataframe tbody tr th {\n",
       "        vertical-align: top;\n",
       "    }\n",
       "\n",
       "    .dataframe thead th {\n",
       "        text-align: right;\n",
       "    }\n",
       "</style>\n",
       "<table border=\"1\" class=\"dataframe\">\n",
       "  <thead>\n",
       "    <tr style=\"text-align: right;\">\n",
       "      <th></th>\n",
       "      <th>professional</th>\n",
       "      <th>program_hobby</th>\n",
       "      <th>university</th>\n",
       "      <th>employment_status</th>\n",
       "      <th>formal_education</th>\n",
       "      <th>major_undergrad</th>\n",
       "      <th>years_program</th>\n",
       "      <th>years_coded_job</th>\n",
       "      <th>developer_type</th>\n",
       "      <th>career_satisfaction</th>\n",
       "    </tr>\n",
       "  </thead>\n",
       "  <tbody>\n",
       "    <tr>\n",
       "      <th>2</th>\n",
       "      <td>Professional developer</td>\n",
       "      <td>Yes, both</td>\n",
       "      <td>No</td>\n",
       "      <td>Employed full-time</td>\n",
       "      <td>Bachelor's degree</td>\n",
       "      <td>Computer science or software engineering</td>\n",
       "      <td>20 or more years</td>\n",
       "      <td>20 or more years</td>\n",
       "      <td>Other</td>\n",
       "      <td>8.0</td>\n",
       "    </tr>\n",
       "    <tr>\n",
       "      <th>4</th>\n",
       "      <td>Professional developer</td>\n",
       "      <td>Yes, I program as a hobby</td>\n",
       "      <td>No</td>\n",
       "      <td>Employed full-time</td>\n",
       "      <td>Master's degree</td>\n",
       "      <td>Computer science or software engineering</td>\n",
       "      <td>20 or more years</td>\n",
       "      <td>10 to 11 years</td>\n",
       "      <td>Mobile developer; Graphics programming; Deskto...</td>\n",
       "      <td>6.0</td>\n",
       "    </tr>\n",
       "    <tr>\n",
       "      <th>7</th>\n",
       "      <td>Professional developer</td>\n",
       "      <td>Yes, both</td>\n",
       "      <td>No</td>\n",
       "      <td>Employed full-time</td>\n",
       "      <td>Master's degree</td>\n",
       "      <td>Computer science or software engineering</td>\n",
       "      <td>10 to 11 years</td>\n",
       "      <td>7 to 8 years</td>\n",
       "      <td>Web developer</td>\n",
       "      <td>7.0</td>\n",
       "    </tr>\n",
       "    <tr>\n",
       "      <th>8</th>\n",
       "      <td>Professional developer</td>\n",
       "      <td>Yes, I program as a hobby</td>\n",
       "      <td>Yes, part-time</td>\n",
       "      <td>Employed full-time</td>\n",
       "      <td>Bachelor's degree</td>\n",
       "      <td>Computer science or software engineering</td>\n",
       "      <td>13 to 14 years</td>\n",
       "      <td>7 to 8 years</td>\n",
       "      <td>Web developer; Mobile developer</td>\n",
       "      <td>6.0</td>\n",
       "    </tr>\n",
       "    <tr>\n",
       "      <th>9</th>\n",
       "      <td>Professional developer</td>\n",
       "      <td>Yes, I program as a hobby</td>\n",
       "      <td>Yes, full-time</td>\n",
       "      <td>Independent contractor, freelancer, or self-em...</td>\n",
       "      <td>Master's degree</td>\n",
       "      <td>Computer science or software engineering</td>\n",
       "      <td>13 to 14 years</td>\n",
       "      <td>8 to 9 years</td>\n",
       "      <td>Mobile developer; Desktop applications developer</td>\n",
       "      <td>6.0</td>\n",
       "    </tr>\n",
       "  </tbody>\n",
       "</table>\n",
       "</div>"
      ],
      "text/plain": [
       "             professional              program_hobby      university  \\\n",
       "2  Professional developer                  Yes, both              No   \n",
       "4  Professional developer  Yes, I program as a hobby              No   \n",
       "7  Professional developer                  Yes, both              No   \n",
       "8  Professional developer  Yes, I program as a hobby  Yes, part-time   \n",
       "9  Professional developer  Yes, I program as a hobby  Yes, full-time   \n",
       "\n",
       "                                   employment_status   formal_education  \\\n",
       "2                                 Employed full-time  Bachelor's degree   \n",
       "4                                 Employed full-time    Master's degree   \n",
       "7                                 Employed full-time    Master's degree   \n",
       "8                                 Employed full-time  Bachelor's degree   \n",
       "9  Independent contractor, freelancer, or self-em...    Master's degree   \n",
       "\n",
       "                            major_undergrad     years_program  \\\n",
       "2  Computer science or software engineering  20 or more years   \n",
       "4  Computer science or software engineering  20 or more years   \n",
       "7  Computer science or software engineering    10 to 11 years   \n",
       "8  Computer science or software engineering    13 to 14 years   \n",
       "9  Computer science or software engineering    13 to 14 years   \n",
       "\n",
       "    years_coded_job                                     developer_type  \\\n",
       "2  20 or more years                                              Other   \n",
       "4    10 to 11 years  Mobile developer; Graphics programming; Deskto...   \n",
       "7      7 to 8 years                                      Web developer   \n",
       "8      7 to 8 years                    Web developer; Mobile developer   \n",
       "9      8 to 9 years   Mobile developer; Desktop applications developer   \n",
       "\n",
       "   career_satisfaction  \n",
       "2                  8.0  \n",
       "4                  6.0  \n",
       "7                  7.0  \n",
       "8                  6.0  \n",
       "9                  6.0  "
      ]
     },
     "execution_count": 9,
     "metadata": {},
     "output_type": "execute_result"
    }
   ],
   "source": [
    "\n",
    "data = data.dropna()\n",
    "data.head(5)"
   ]
  },
  {
   "cell_type": "code",
   "execution_count": 10,
   "metadata": {},
   "outputs": [
    {
     "name": "stdout",
     "output_type": "stream",
     "text": [
      "professional\n",
      "['Professional developer' 'Student'\n",
      " 'Professional non-developer who sometimes writes code'] \n",
      "\n",
      "program_hobby\n",
      "['Yes, both' 'Yes, I program as a hobby' 'No'\n",
      " 'Yes, I contribute to open source projects'] \n",
      "\n",
      "university\n",
      "['No' 'Yes, part-time' 'Yes, full-time' 'I prefer not to say'] \n",
      "\n",
      "employment_status\n",
      "['Employed full-time'\n",
      " 'Independent contractor, freelancer, or self-employed'\n",
      " 'Employed part-time' 'Not employed, and not looking for work'\n",
      " 'I prefer not to say' 'Not employed, but looking for work' 'Retired'] \n",
      "\n",
      "formal_education\n",
      "[\"Bachelor's degree\" \"Master's degree\"\n",
      " \"Some college/university study without earning a bachelor's degree\"\n",
      " 'Professional degree' 'Doctoral degree' 'Secondary school'\n",
      " 'I prefer not to answer'] \n",
      "\n",
      "major_undergrad\n",
      "['Computer science or software engineering'\n",
      " 'Computer engineering or electrical/electronics engineering'\n",
      " 'A natural science' 'A business discipline'\n",
      " 'Computer programming or Web development'\n",
      " 'Information technology, networking, or system administration'\n",
      " 'I never declared a major' 'Something else' 'Mathematics or statistics'\n",
      " 'Fine arts or performing arts'\n",
      " 'A non-computer-focused engineering discipline'\n",
      " 'Management information systems' 'A social science'\n",
      " 'A humanities discipline' 'Psychology' 'A health science'] \n",
      "\n",
      "years_program\n",
      "['20 or more years' '10 to 11 years' '13 to 14 years' '15 to 16 years'\n",
      " '2 to 3 years' '12 to 13 years' '5 to 6 years' '18 to 19 years'\n",
      " '6 to 7 years' '7 to 8 years' '9 to 10 years' '8 to 9 years'\n",
      " 'Less than a year' '4 to 5 years' '11 to 12 years' '14 to 15 years'\n",
      " '3 to 4 years' '17 to 18 years' '1 to 2 years' '16 to 17 years'\n",
      " '19 to 20 years'] \n",
      "\n",
      "years_coded_job\n",
      "['20 or more years' '10 to 11 years' '7 to 8 years' '8 to 9 years'\n",
      " '15 to 16 years' '3 to 4 years' '12 to 13 years' 'Less than a year'\n",
      " '5 to 6 years' '9 to 10 years' '16 to 17 years' '6 to 7 years'\n",
      " '1 to 2 years' '2 to 3 years' '17 to 18 years' '4 to 5 years'\n",
      " '14 to 15 years' '13 to 14 years' '18 to 19 years' '11 to 12 years'\n",
      " '19 to 20 years'] \n",
      "\n",
      "developer_type\n",
      "['Other'\n",
      " 'Mobile developer; Graphics programming; Desktop applications developer'\n",
      " 'Web developer' ...\n",
      " 'Machine learning specialist; Developer with a statistics or mathematics background; Data scientist; Quality assurance engineer; Other'\n",
      " 'Web developer; Mobile developer; Developer with a statistics or mathematics background; Data scientist; Graphic designer; Desktop applications developer'\n",
      " 'Web developer; Mobile developer; Developer with a statistics or mathematics background; Data scientist; Database administrator; Systems administrator; Other'] \n",
      "\n",
      "career_satisfaction\n",
      "[ 8.  6.  7.  9.  5. 10.  4.  3.  0.  2.  1.] \n",
      "\n"
     ]
    }
   ],
   "source": [
    "for column in data.columns:\n",
    "    print(column)\n",
    "    print(data[column].unique(), '\\n')"
   ]
  },
  {
   "cell_type": "code",
   "execution_count": 27,
   "metadata": {},
   "outputs": [],
   "source": [
    "\n",
    "data['years_program_int'] = data['years_program'].map(lambda resp: int(resp.split(\" \")[0]) if not resp == 'Less than a year' else 0)\n",
    "data['years_coded_int'] = data['years_coded_job'].map(lambda resp: int(resp.split(\" \")[0]) if not resp == 'Less than a year' else 0)\n",
    "\n",
    "data['hobby'] = data['program_hobby'].map(lambda resp: resp.split(\",\")[0])\n",
    "\n",
    "data['type_count'] = data['developer_type'].map(lambda resp: len(resp.split(';')))\n"
   ]
  },
  {
   "cell_type": "code",
   "execution_count": 28,
   "metadata": {},
   "outputs": [
    {
     "data": {
      "text/plain": [
       "529"
      ]
     },
     "execution_count": 28,
     "metadata": {},
     "output_type": "execute_result"
    }
   ],
   "source": [
    "len(data[data['years_coded_int'] > data['years_program_int']])"
   ]
  },
  {
   "cell_type": "code",
   "execution_count": 29,
   "metadata": {},
   "outputs": [
    {
     "data": {
      "text/plain": [
       "hobby\n",
       "No      6921\n",
       "Yes    25545\n",
       "Name: hobby, dtype: int64"
      ]
     },
     "execution_count": 29,
     "metadata": {},
     "output_type": "execute_result"
    }
   ],
   "source": [
    "\n",
    "data.groupby(['hobby'])['hobby'].count()"
   ]
  },
  {
   "cell_type": "code",
   "execution_count": 30,
   "metadata": {},
   "outputs": [
    {
     "data": {
      "text/plain": [
       "program_hobby\n",
       "No                                           7.140298\n",
       "Yes, I contribute to open source projects    7.475879\n",
       "Yes, I program as a hobby                    7.422363\n",
       "Yes, both                                    7.619521\n",
       "Name: career_satisfaction, dtype: float64"
      ]
     },
     "execution_count": 30,
     "metadata": {},
     "output_type": "execute_result"
    }
   ],
   "source": [
    "\n",
    "data.groupby(['program_hobby'])['career_satisfaction'].mean()"
   ]
  },
  {
   "cell_type": "code",
   "execution_count": 31,
   "metadata": {},
   "outputs": [
    {
     "data": {
      "text/plain": [
       "developer_type\n",
       "Data scientist                                                                                                                                                                                                                     7.380282\n",
       "Data scientist; Database administrator                                                                                                                                                                                             7.000000\n",
       "Data scientist; Database administrator; DevOps specialist                                                                                                                                                                          4.000000\n",
       "Data scientist; Database administrator; Other                                                                                                                                                                                      7.000000\n",
       "Data scientist; Database administrator; Quality assurance engineer                                                                                                                                                                 9.000000\n",
       "Data scientist; Database administrator; Systems administrator                                                                                                                                                                      7.400000\n",
       "Data scientist; Database administrator; Systems administrator; Other                                                                                                                                                               8.000000\n",
       "Data scientist; Desktop applications developer                                                                                                                                                                                     7.550000\n",
       "Data scientist; Desktop applications developer; Database administrator                                                                                                                                                             6.842105\n",
       "Data scientist; Desktop applications developer; Database administrator; DevOps specialist; Quality assurance engineer                                                                                                             10.000000\n",
       "Data scientist; Desktop applications developer; Database administrator; Other                                                                                                                                                      7.000000\n",
       "Data scientist; Desktop applications developer; Database administrator; Quality assurance engineer; Other                                                                                                                          9.000000\n",
       "Data scientist; Desktop applications developer; Database administrator; Systems administrator                                                                                                                                      8.000000\n",
       "Data scientist; Desktop applications developer; Database administrator; Systems administrator; DevOps specialist                                                                                                                   9.000000\n",
       "Data scientist; Desktop applications developer; Database administrator; Systems administrator; DevOps specialist; Quality assurance engineer                                                                                       6.000000\n",
       "Data scientist; Desktop applications developer; Database administrator; Systems administrator; Other                                                                                                                               9.000000\n",
       "Data scientist; Desktop applications developer; DevOps specialist                                                                                                                                                                  7.750000\n",
       "Data scientist; Desktop applications developer; DevOps specialist; Other                                                                                                                                                           5.000000\n",
       "Data scientist; Desktop applications developer; Other                                                                                                                                                                              8.000000\n",
       "Data scientist; Desktop applications developer; Systems administrator                                                                                                                                                              8.000000\n",
       "Data scientist; Desktop applications developer; Systems administrator; Quality assurance engineer                                                                                                                                  9.000000\n",
       "Data scientist; DevOps specialist                                                                                                                                                                                                  8.200000\n",
       "Data scientist; DevOps specialist; Other                                                                                                                                                                                           7.000000\n",
       "Data scientist; DevOps specialist; Quality assurance engineer                                                                                                                                                                      8.000000\n",
       "Data scientist; DevOps specialist; Quality assurance engineer; Other                                                                                                                                                              10.000000\n",
       "Data scientist; Graphic designer                                                                                                                                                                                                   7.000000\n",
       "Data scientist; Graphic designer; Systems administrator; DevOps specialist                                                                                                                                                         7.000000\n",
       "Data scientist; Other                                                                                                                                                                                                              7.555556\n",
       "Data scientist; Quality assurance engineer                                                                                                                                                                                         9.000000\n",
       "Data scientist; Systems administrator                                                                                                                                                                                              6.500000\n",
       "                                                                                                                                                                                                                                    ...    \n",
       "Web developer; Mobile developer; Machine learning specialist; Developer with a statistics or mathematics background; Database administrator; Systems administrator                                                                 9.000000\n",
       "Web developer; Mobile developer; Machine learning specialist; Developer with a statistics or mathematics background; Desktop applications developer                                                                                7.714286\n",
       "Web developer; Mobile developer; Machine learning specialist; Developer with a statistics or mathematics background; Desktop applications developer; Database administrator; Systems administrator                                 6.500000\n",
       "Web developer; Mobile developer; Machine learning specialist; Developer with a statistics or mathematics background; Desktop applications developer; Database administrator; Systems administrator; Quality assurance engineer     8.000000\n",
       "Web developer; Mobile developer; Machine learning specialist; Developer with a statistics or mathematics background; DevOps specialist                                                                                             6.000000\n",
       "Web developer; Mobile developer; Machine learning specialist; Developer with a statistics or mathematics background; Graphic designer                                                                                              9.000000\n",
       "Web developer; Mobile developer; Machine learning specialist; Developer with a statistics or mathematics background; Graphic designer; Database administrator                                                                      8.000000\n",
       "Web developer; Mobile developer; Machine learning specialist; Graphic designer                                                                                                                                                    10.000000\n",
       "Web developer; Mobile developer; Machine learning specialist; Graphic designer; Desktop applications developer                                                                                                                     6.000000\n",
       "Web developer; Mobile developer; Machine learning specialist; Systems administrator                                                                                                                                                9.500000\n",
       "Web developer; Mobile developer; Machine learning specialist; Systems administrator; DevOps specialist                                                                                                                             9.000000\n",
       "Web developer; Mobile developer; Other                                                                                                                                                                                             7.800000\n",
       "Web developer; Mobile developer; Quality assurance engineer                                                                                                                                                                        7.444444\n",
       "Web developer; Mobile developer; Systems administrator                                                                                                                                                                             7.447368\n",
       "Web developer; Mobile developer; Systems administrator; DevOps specialist                                                                                                                                                          8.250000\n",
       "Web developer; Mobile developer; Systems administrator; DevOps specialist; Other                                                                                                                                                   9.000000\n",
       "Web developer; Mobile developer; Systems administrator; DevOps specialist; Quality assurance engineer                                                                                                                              5.600000\n",
       "Web developer; Mobile developer; Systems administrator; DevOps specialist; Quality assurance engineer; Other                                                                                                                      10.000000\n",
       "Web developer; Mobile developer; Systems administrator; Other                                                                                                                                                                      9.000000\n",
       "Web developer; Mobile developer; Systems administrator; Quality assurance engineer                                                                                                                                                 7.750000\n",
       "Web developer; Other                                                                                                                                                                                                               7.478261\n",
       "Web developer; Quality assurance engineer                                                                                                                                                                                          7.623377\n",
       "Web developer; Quality assurance engineer; Other                                                                                                                                                                                   8.000000\n",
       "Web developer; Systems administrator                                                                                                                                                                                               7.351931\n",
       "Web developer; Systems administrator; DevOps specialist                                                                                                                                                                            7.413265\n",
       "Web developer; Systems administrator; DevOps specialist; Other                                                                                                                                                                     8.000000\n",
       "Web developer; Systems administrator; DevOps specialist; Quality assurance engineer                                                                                                                                                8.117647\n",
       "Web developer; Systems administrator; DevOps specialist; Quality assurance engineer; Other                                                                                                                                         8.666667\n",
       "Web developer; Systems administrator; Other                                                                                                                                                                                        7.571429\n",
       "Web developer; Systems administrator; Quality assurance engineer                                                                                                                                                                   8.125000\n",
       "Name: career_satisfaction, Length: 1693, dtype: float64"
      ]
     },
     "execution_count": 31,
     "metadata": {},
     "output_type": "execute_result"
    }
   ],
   "source": [
    "\n",
    "data.groupby(['developer_type'])['career_satisfaction'].mean()"
   ]
  },
  {
   "cell_type": "code",
   "execution_count": 32,
   "metadata": {},
   "outputs": [
    {
     "data": {
      "text/html": [
       "<div>\n",
       "<style scoped>\n",
       "    .dataframe tbody tr th:only-of-type {\n",
       "        vertical-align: middle;\n",
       "    }\n",
       "\n",
       "    .dataframe tbody tr th {\n",
       "        vertical-align: top;\n",
       "    }\n",
       "\n",
       "    .dataframe thead th {\n",
       "        text-align: right;\n",
       "    }\n",
       "</style>\n",
       "<table border=\"1\" class=\"dataframe\">\n",
       "  <thead>\n",
       "    <tr style=\"text-align: right;\">\n",
       "      <th></th>\n",
       "      <th>count</th>\n",
       "      <th>mean</th>\n",
       "    </tr>\n",
       "    <tr>\n",
       "      <th>type_count</th>\n",
       "      <th></th>\n",
       "      <th></th>\n",
       "    </tr>\n",
       "  </thead>\n",
       "  <tbody>\n",
       "    <tr>\n",
       "      <th>1</th>\n",
       "      <td>15213</td>\n",
       "      <td>7.360941</td>\n",
       "    </tr>\n",
       "    <tr>\n",
       "      <th>2</th>\n",
       "      <td>7585</td>\n",
       "      <td>7.387607</td>\n",
       "    </tr>\n",
       "    <tr>\n",
       "      <th>3</th>\n",
       "      <td>4895</td>\n",
       "      <td>7.484168</td>\n",
       "    </tr>\n",
       "    <tr>\n",
       "      <th>4</th>\n",
       "      <td>2545</td>\n",
       "      <td>7.564637</td>\n",
       "    </tr>\n",
       "    <tr>\n",
       "      <th>5</th>\n",
       "      <td>1180</td>\n",
       "      <td>7.559322</td>\n",
       "    </tr>\n",
       "    <tr>\n",
       "      <th>6</th>\n",
       "      <td>559</td>\n",
       "      <td>7.615385</td>\n",
       "    </tr>\n",
       "    <tr>\n",
       "      <th>7</th>\n",
       "      <td>255</td>\n",
       "      <td>7.635294</td>\n",
       "    </tr>\n",
       "    <tr>\n",
       "      <th>8</th>\n",
       "      <td>112</td>\n",
       "      <td>7.964286</td>\n",
       "    </tr>\n",
       "    <tr>\n",
       "      <th>9</th>\n",
       "      <td>58</td>\n",
       "      <td>7.948276</td>\n",
       "    </tr>\n",
       "    <tr>\n",
       "      <th>10</th>\n",
       "      <td>30</td>\n",
       "      <td>8.066667</td>\n",
       "    </tr>\n",
       "    <tr>\n",
       "      <th>11</th>\n",
       "      <td>10</td>\n",
       "      <td>9.100000</td>\n",
       "    </tr>\n",
       "    <tr>\n",
       "      <th>12</th>\n",
       "      <td>3</td>\n",
       "      <td>5.333333</td>\n",
       "    </tr>\n",
       "    <tr>\n",
       "      <th>13</th>\n",
       "      <td>16</td>\n",
       "      <td>7.250000</td>\n",
       "    </tr>\n",
       "    <tr>\n",
       "      <th>14</th>\n",
       "      <td>5</td>\n",
       "      <td>5.600000</td>\n",
       "    </tr>\n",
       "  </tbody>\n",
       "</table>\n",
       "</div>"
      ],
      "text/plain": [
       "            count      mean\n",
       "type_count                 \n",
       "1           15213  7.360941\n",
       "2            7585  7.387607\n",
       "3            4895  7.484168\n",
       "4            2545  7.564637\n",
       "5            1180  7.559322\n",
       "6             559  7.615385\n",
       "7             255  7.635294\n",
       "8             112  7.964286\n",
       "9              58  7.948276\n",
       "10             30  8.066667\n",
       "11             10  9.100000\n",
       "12              3  5.333333\n",
       "13             16  7.250000\n",
       "14              5  5.600000"
      ]
     },
     "execution_count": 32,
     "metadata": {},
     "output_type": "execute_result"
    }
   ],
   "source": [
    "\n",
    "data.groupby(['type_count'])['career_satisfaction'].agg(['count', 'mean'])\n"
   ]
  },
  {
   "cell_type": "code",
   "execution_count": 33,
   "metadata": {},
   "outputs": [
    {
     "data": {
      "text/plain": [
       "<matplotlib.axes._subplots.AxesSubplot at 0x285dd028438>"
      ]
     },
     "execution_count": 33,
     "metadata": {},
     "output_type": "execute_result"
    },
    {
     "data": {
      "image/png": "[encoded data removed]",
      "text/plain": [
       "<Figure size 432x288 with 1 Axes>"
      ]
     },
     "metadata": {},
     "output_type": "display_data"
    }
   ],
   "source": [
    "sns.regplot(x='type_count', y='career_satisfaction', data=data, x_estimator=pd.np.mean)"
   ]
  },
  {
   "cell_type": "code",
   "execution_count": 34,
   "metadata": {},
   "outputs": [
    {
     "data": {
      "text/plain": [
       "developer_type\n",
       "Graphics programming                                     7.630435\n",
       "Other                                                    7.501401\n",
       "Mobile developer                                         7.483092\n",
       "Data scientist                                           7.380282\n",
       "Web developer                                            7.373124\n",
       "Embedded applications/devices developer                  7.357724\n",
       "DevOps specialist                                        7.335260\n",
       "Machine learning specialist                              7.289474\n",
       "Desktop applications developer                           7.149807\n",
       "Developer with a statistics or mathematics background    7.144737\n",
       "Quality assurance engineer                               7.142857\n",
       "Database administrator                                   6.985075\n",
       "Graphic designer                                         6.400000\n",
       "Systems administrator                                    6.321429\n",
       "Name: career_satisfaction, dtype: float64"
      ]
     },
     "execution_count": 34,
     "metadata": {},
     "output_type": "execute_result"
    }
   ],
   "source": [
    "\n",
    "(\n",
    "    data[data['type_count'] == 1]\n",
    "    .groupby('developer_type')['career_satisfaction']\n",
    "    .mean()\n",
    "    .sort_values(ascending=False)\n",
    ")"
   ]
  },
  {
   "cell_type": "code",
   "execution_count": 35,
   "metadata": {},
   "outputs": [
    {
     "data": {
      "text/plain": [
       "university\n",
       "Yes, part-time         7.500819\n",
       "No                     7.419538\n",
       "Yes, full-time         7.401789\n",
       "I prefer not to say    7.136240\n",
       "Name: career_satisfaction, dtype: float64"
      ]
     },
     "execution_count": 35,
     "metadata": {},
     "output_type": "execute_result"
    }
   ],
   "source": [
    "\n",
    "(\n",
    "    data\n",
    "    .groupby('university')['career_satisfaction']\n",
    "    .mean()\n",
    "    .sort_values(ascending=False)\n",
    ")"
   ]
  },
  {
   "cell_type": "code",
   "execution_count": 36,
   "metadata": {},
   "outputs": [
    {
     "data": {
      "text/plain": [
       "employment_status\n",
       "Independent contractor, freelancer, or self-employed    7.619898\n",
       "Employed full-time                                      7.425128\n",
       "Retired                                                 7.391304\n",
       "Employed part-time                                      7.332724\n",
       "I prefer not to say                                     7.152381\n",
       "Not employed, and not looking for work                  6.782051\n",
       "Not employed, but looking for work                      5.858586\n",
       "Name: career_satisfaction, dtype: float64"
      ]
     },
     "execution_count": 36,
     "metadata": {},
     "output_type": "execute_result"
    }
   ],
   "source": [
    "\n",
    "(\n",
    "    data\n",
    "    .groupby('employment_status')['career_satisfaction']\n",
    "    .mean()\n",
    "    .sort_values(ascending=False)\n",
    ")"
   ]
  },
  {
   "cell_type": "code",
   "execution_count": 37,
   "metadata": {},
   "outputs": [
    {
     "data": {
      "text/plain": [
       "formal_education\n",
       "Doctoral degree                                                      7.622108\n",
       "Some college/university study without earning a bachelor's degree    7.570246\n",
       "Professional degree                                                  7.525424\n",
       "Bachelor's degree                                                    7.395957\n",
       "Master's degree                                                      7.349705\n",
       "Secondary school                                                     7.000000\n",
       "I prefer not to answer                                               3.000000\n",
       "Name: career_satisfaction, dtype: float64"
      ]
     },
     "execution_count": 37,
     "metadata": {},
     "output_type": "execute_result"
    }
   ],
   "source": [
    "\n",
    "(\n",
    "    data\n",
    "    .groupby('formal_education')['career_satisfaction']\n",
    "    .mean()\n",
    "    .sort_values(ascending=False)\n",
    ")"
   ]
  },
  {
   "cell_type": "code",
   "execution_count": 38,
   "metadata": {},
   "outputs": [
    {
     "data": {
      "text/plain": [
       "major_undergrad\n",
       "A business discipline                                           7.680431\n",
       "Fine arts or performing arts                                    7.639241\n",
       "A social science                                                7.564039\n",
       "A health science                                                7.553846\n",
       "Management information systems                                  7.543290\n",
       "I never declared a major                                        7.537349\n",
       "Psychology                                                      7.518519\n",
       "A humanities discipline                                         7.516854\n",
       "A natural science                                               7.463755\n",
       "Computer science or software engineering                        7.424700\n",
       "A non-computer-focused engineering discipline                   7.400682\n",
       "Computer programming or Web development                         7.391951\n",
       "Mathematics or statistics                                       7.389800\n",
       "Computer engineering or electrical/electronics engineering      7.325131\n",
       "Information technology, networking, or system administration    7.324823\n",
       "Something else                                                  7.317919\n",
       "Name: career_satisfaction, dtype: float64"
      ]
     },
     "execution_count": 38,
     "metadata": {},
     "output_type": "execute_result"
    }
   ],
   "source": [
    "\n",
    "(\n",
    "    data\n",
    "    .groupby('major_undergrad')['career_satisfaction']\n",
    "    .mean()\n",
    "    .sort_values(ascending=False)\n",
    ")"
   ]
  },
  {
   "cell_type": "code",
   "execution_count": null,
   "metadata": {},
   "outputs": [],
   "source": []
  },
  {
   "cell_type": "code",
   "execution_count": null,
   "metadata": {},
   "outputs": [],
   "source": []
  }
 ],
 "metadata": {
  "kernelspec": {
   "display_name": "Python 3",
   "language": "python",
   "name": "python3"
  },
  "language_info": {
   "codemirror_mode": {
    "name": "ipython",
    "version": 3
   },
   "file_extension": ".py",
   "mimetype": "text/x-python",
   "name": "python",
   "nbconvert_exporter": "python",
   "pygments_lexer": "ipython3",
   "version": "3.6.5"
  }
 },
 "nbformat": 4,
 "nbformat_minor": 2
}
